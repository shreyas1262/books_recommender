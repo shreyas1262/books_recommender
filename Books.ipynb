{
 "cells": [
  {
   "cell_type": "markdown",
   "metadata": {},
   "source": [
    "#### Import Libraries"
   ]
  },
  {
   "cell_type": "code",
   "execution_count": 1,
   "metadata": {},
   "outputs": [],
   "source": [
    "import pandas as pd\n",
    "import re\n",
    "from rake_nltk import Rake\n",
    "import numpy as np\n",
    "from sklearn.metrics.pairwise import cosine_similarity\n",
    "from sklearn.feature_extraction.text import CountVectorizer"
   ]
  },
  {
   "cell_type": "markdown",
   "metadata": {},
   "source": [
    "#### Load data"
   ]
  },
  {
   "cell_type": "code",
   "execution_count": 2,
   "metadata": {},
   "outputs": [],
   "source": [
    "books = pd.read_json('nyt2.json', lines=True)"
   ]
  },
  {
   "cell_type": "code",
   "execution_count": 3,
   "metadata": {},
   "outputs": [
    {
     "data": {
      "text/html": [
       "<div>\n",
       "<style scoped>\n",
       "    .dataframe tbody tr th:only-of-type {\n",
       "        vertical-align: middle;\n",
       "    }\n",
       "\n",
       "    .dataframe tbody tr th {\n",
       "        vertical-align: top;\n",
       "    }\n",
       "\n",
       "    .dataframe thead th {\n",
       "        text-align: right;\n",
       "    }\n",
       "</style>\n",
       "<table border=\"1\" class=\"dataframe\">\n",
       "  <thead>\n",
       "    <tr style=\"text-align: right;\">\n",
       "      <th></th>\n",
       "      <th>_id</th>\n",
       "      <th>amazon_product_url</th>\n",
       "      <th>author</th>\n",
       "      <th>bestsellers_date</th>\n",
       "      <th>description</th>\n",
       "      <th>price</th>\n",
       "      <th>published_date</th>\n",
       "      <th>publisher</th>\n",
       "      <th>rank</th>\n",
       "      <th>rank_last_week</th>\n",
       "      <th>title</th>\n",
       "      <th>weeks_on_list</th>\n",
       "    </tr>\n",
       "  </thead>\n",
       "  <tbody>\n",
       "    <tr>\n",
       "      <th>0</th>\n",
       "      <td>{'$oid': '5b4aa4ead3089013507db18b'}</td>\n",
       "      <td>http://www.amazon.com/Odd-Hours-Dean-Koontz/dp...</td>\n",
       "      <td>Dean R Koontz</td>\n",
       "      <td>{'$date': {'$numberLong': '1211587200000'}}</td>\n",
       "      <td>Odd Thomas, who can communicate with the dead,...</td>\n",
       "      <td>{'$numberInt': '27'}</td>\n",
       "      <td>{'$date': {'$numberLong': '1212883200000'}}</td>\n",
       "      <td>Bantam</td>\n",
       "      <td>{'$numberInt': '1'}</td>\n",
       "      <td>{'$numberInt': '0'}</td>\n",
       "      <td>ODD HOURS</td>\n",
       "      <td>{'$numberInt': '1'}</td>\n",
       "    </tr>\n",
       "    <tr>\n",
       "      <th>1</th>\n",
       "      <td>{'$oid': '5b4aa4ead3089013507db18c'}</td>\n",
       "      <td>http://www.amazon.com/The-Host-Novel-Stephenie...</td>\n",
       "      <td>Stephenie Meyer</td>\n",
       "      <td>{'$date': {'$numberLong': '1211587200000'}}</td>\n",
       "      <td>Aliens have taken control of the minds and bod...</td>\n",
       "      <td>{'$numberDouble': '25.99'}</td>\n",
       "      <td>{'$date': {'$numberLong': '1212883200000'}}</td>\n",
       "      <td>Little, Brown</td>\n",
       "      <td>{'$numberInt': '2'}</td>\n",
       "      <td>{'$numberInt': '1'}</td>\n",
       "      <td>THE HOST</td>\n",
       "      <td>{'$numberInt': '3'}</td>\n",
       "    </tr>\n",
       "    <tr>\n",
       "      <th>2</th>\n",
       "      <td>{'$oid': '5b4aa4ead3089013507db18d'}</td>\n",
       "      <td>http://www.amazon.com/Love-Youre-With-Emily-Gi...</td>\n",
       "      <td>Emily Giffin</td>\n",
       "      <td>{'$date': {'$numberLong': '1211587200000'}}</td>\n",
       "      <td>A woman's happy marriage is shaken when she en...</td>\n",
       "      <td>{'$numberDouble': '24.95'}</td>\n",
       "      <td>{'$date': {'$numberLong': '1212883200000'}}</td>\n",
       "      <td>St. Martin's</td>\n",
       "      <td>{'$numberInt': '3'}</td>\n",
       "      <td>{'$numberInt': '2'}</td>\n",
       "      <td>LOVE THE ONE YOU'RE WITH</td>\n",
       "      <td>{'$numberInt': '2'}</td>\n",
       "    </tr>\n",
       "    <tr>\n",
       "      <th>3</th>\n",
       "      <td>{'$oid': '5b4aa4ead3089013507db18e'}</td>\n",
       "      <td>http://www.amazon.com/The-Front-Garano-Patrici...</td>\n",
       "      <td>Patricia Cornwell</td>\n",
       "      <td>{'$date': {'$numberLong': '1211587200000'}}</td>\n",
       "      <td>A Massachusetts state investigator and his tea...</td>\n",
       "      <td>{'$numberDouble': '22.95'}</td>\n",
       "      <td>{'$date': {'$numberLong': '1212883200000'}}</td>\n",
       "      <td>Putnam</td>\n",
       "      <td>{'$numberInt': '4'}</td>\n",
       "      <td>{'$numberInt': '0'}</td>\n",
       "      <td>THE FRONT</td>\n",
       "      <td>{'$numberInt': '1'}</td>\n",
       "    </tr>\n",
       "    <tr>\n",
       "      <th>4</th>\n",
       "      <td>{'$oid': '5b4aa4ead3089013507db18f'}</td>\n",
       "      <td>http://www.amazon.com/Snuff-Chuck-Palahniuk/dp...</td>\n",
       "      <td>Chuck Palahniuk</td>\n",
       "      <td>{'$date': {'$numberLong': '1211587200000'}}</td>\n",
       "      <td>An aging porn queens aims to cap her career by...</td>\n",
       "      <td>{'$numberDouble': '24.95'}</td>\n",
       "      <td>{'$date': {'$numberLong': '1212883200000'}}</td>\n",
       "      <td>Doubleday</td>\n",
       "      <td>{'$numberInt': '5'}</td>\n",
       "      <td>{'$numberInt': '0'}</td>\n",
       "      <td>SNUFF</td>\n",
       "      <td>{'$numberInt': '1'}</td>\n",
       "    </tr>\n",
       "  </tbody>\n",
       "</table>\n",
       "</div>"
      ],
      "text/plain": [
       "                                    _id  \\\n",
       "0  {'$oid': '5b4aa4ead3089013507db18b'}   \n",
       "1  {'$oid': '5b4aa4ead3089013507db18c'}   \n",
       "2  {'$oid': '5b4aa4ead3089013507db18d'}   \n",
       "3  {'$oid': '5b4aa4ead3089013507db18e'}   \n",
       "4  {'$oid': '5b4aa4ead3089013507db18f'}   \n",
       "\n",
       "                                  amazon_product_url             author  \\\n",
       "0  http://www.amazon.com/Odd-Hours-Dean-Koontz/dp...      Dean R Koontz   \n",
       "1  http://www.amazon.com/The-Host-Novel-Stephenie...    Stephenie Meyer   \n",
       "2  http://www.amazon.com/Love-Youre-With-Emily-Gi...       Emily Giffin   \n",
       "3  http://www.amazon.com/The-Front-Garano-Patrici...  Patricia Cornwell   \n",
       "4  http://www.amazon.com/Snuff-Chuck-Palahniuk/dp...    Chuck Palahniuk   \n",
       "\n",
       "                              bestsellers_date  \\\n",
       "0  {'$date': {'$numberLong': '1211587200000'}}   \n",
       "1  {'$date': {'$numberLong': '1211587200000'}}   \n",
       "2  {'$date': {'$numberLong': '1211587200000'}}   \n",
       "3  {'$date': {'$numberLong': '1211587200000'}}   \n",
       "4  {'$date': {'$numberLong': '1211587200000'}}   \n",
       "\n",
       "                                         description  \\\n",
       "0  Odd Thomas, who can communicate with the dead,...   \n",
       "1  Aliens have taken control of the minds and bod...   \n",
       "2  A woman's happy marriage is shaken when she en...   \n",
       "3  A Massachusetts state investigator and his tea...   \n",
       "4  An aging porn queens aims to cap her career by...   \n",
       "\n",
       "                        price                               published_date  \\\n",
       "0        {'$numberInt': '27'}  {'$date': {'$numberLong': '1212883200000'}}   \n",
       "1  {'$numberDouble': '25.99'}  {'$date': {'$numberLong': '1212883200000'}}   \n",
       "2  {'$numberDouble': '24.95'}  {'$date': {'$numberLong': '1212883200000'}}   \n",
       "3  {'$numberDouble': '22.95'}  {'$date': {'$numberLong': '1212883200000'}}   \n",
       "4  {'$numberDouble': '24.95'}  {'$date': {'$numberLong': '1212883200000'}}   \n",
       "\n",
       "       publisher                 rank       rank_last_week  \\\n",
       "0         Bantam  {'$numberInt': '1'}  {'$numberInt': '0'}   \n",
       "1  Little, Brown  {'$numberInt': '2'}  {'$numberInt': '1'}   \n",
       "2   St. Martin's  {'$numberInt': '3'}  {'$numberInt': '2'}   \n",
       "3         Putnam  {'$numberInt': '4'}  {'$numberInt': '0'}   \n",
       "4      Doubleday  {'$numberInt': '5'}  {'$numberInt': '0'}   \n",
       "\n",
       "                      title        weeks_on_list  \n",
       "0                 ODD HOURS  {'$numberInt': '1'}  \n",
       "1                  THE HOST  {'$numberInt': '3'}  \n",
       "2  LOVE THE ONE YOU'RE WITH  {'$numberInt': '2'}  \n",
       "3                 THE FRONT  {'$numberInt': '1'}  \n",
       "4                     SNUFF  {'$numberInt': '1'}  "
      ]
     },
     "execution_count": 3,
     "metadata": {},
     "output_type": "execute_result"
    }
   ],
   "source": [
    "books.head()"
   ]
  },
  {
   "cell_type": "code",
   "execution_count": 4,
   "metadata": {},
   "outputs": [
    {
     "data": {
      "text/plain": [
       "(10195, 12)"
      ]
     },
     "execution_count": 4,
     "metadata": {},
     "output_type": "execute_result"
    }
   ],
   "source": [
    "books.shape"
   ]
  },
  {
   "cell_type": "markdown",
   "metadata": {},
   "source": [
    "#### Helper Functions"
   ]
  },
  {
   "cell_type": "code",
   "execution_count": 5,
   "metadata": {},
   "outputs": [],
   "source": [
    "# get number from dictionary\n",
    "def get_number(x):\n",
    "    try:\n",
    "        return int(x['$numberInt'])\n",
    "    except:\n",
    "        return 0\n",
    "\n",
    "# get number of zeros or missing values in column\n",
    "def get_zeros(column_name):\n",
    "    return (books[column_name] == 0).sum()\n",
    "\n",
    "# get keywords from description\n",
    "def get_keywords(description):\n",
    "    # Instantiate Rake, by default it uses english stopwords from NLTK and discards all punctuation characters as well\n",
    "    r = Rake()\n",
    "\n",
    "    try:\n",
    "        # extract words by passing the text\n",
    "        r.extract_keywords_from_text(description)\n",
    "        \n",
    "        # getting the dictionary with keywords as keys and their scores as values\n",
    "        key_words_dict_scores = r.get_word_degrees()\n",
    "        \n",
    "        # return the key words to the new column for the corresponding book description\n",
    "        return str(list(key_words_dict_scores.keys()))\n",
    "    \n",
    "    except:\n",
    "        return ''\n",
    "    \n",
    "# Remove punctuations\n",
    "def remove_punctuation(s):\n",
    "    return re.sub(r'[^\\w\\s]','',s)"
   ]
  },
  {
   "cell_type": "markdown",
   "metadata": {},
   "source": [
    "#### Convert Dictionary to Integers"
   ]
  },
  {
   "cell_type": "code",
   "execution_count": 6,
   "metadata": {},
   "outputs": [],
   "source": [
    "books['price'] = books['price'].apply(lambda x:get_number(x))\n",
    "books['rank'] = books['rank'].apply(lambda x:get_number(x))\n",
    "books['rank_last_week'] = books['rank_last_week'].apply(lambda x:get_number(x))\n",
    "books['weeks_on_list'] = books['weeks_on_list'].apply(lambda x:get_number(x))"
   ]
  },
  {
   "cell_type": "code",
   "execution_count": 7,
   "metadata": {
    "scrolled": true
   },
   "outputs": [
    {
     "data": {
      "text/html": [
       "<div>\n",
       "<style scoped>\n",
       "    .dataframe tbody tr th:only-of-type {\n",
       "        vertical-align: middle;\n",
       "    }\n",
       "\n",
       "    .dataframe tbody tr th {\n",
       "        vertical-align: top;\n",
       "    }\n",
       "\n",
       "    .dataframe thead th {\n",
       "        text-align: right;\n",
       "    }\n",
       "</style>\n",
       "<table border=\"1\" class=\"dataframe\">\n",
       "  <thead>\n",
       "    <tr style=\"text-align: right;\">\n",
       "      <th></th>\n",
       "      <th>_id</th>\n",
       "      <th>amazon_product_url</th>\n",
       "      <th>author</th>\n",
       "      <th>bestsellers_date</th>\n",
       "      <th>description</th>\n",
       "      <th>price</th>\n",
       "      <th>published_date</th>\n",
       "      <th>publisher</th>\n",
       "      <th>rank</th>\n",
       "      <th>rank_last_week</th>\n",
       "      <th>title</th>\n",
       "      <th>weeks_on_list</th>\n",
       "    </tr>\n",
       "  </thead>\n",
       "  <tbody>\n",
       "    <tr>\n",
       "      <th>0</th>\n",
       "      <td>{'$oid': '5b4aa4ead3089013507db18b'}</td>\n",
       "      <td>http://www.amazon.com/Odd-Hours-Dean-Koontz/dp...</td>\n",
       "      <td>Dean R Koontz</td>\n",
       "      <td>{'$date': {'$numberLong': '1211587200000'}}</td>\n",
       "      <td>Odd Thomas, who can communicate with the dead,...</td>\n",
       "      <td>27</td>\n",
       "      <td>{'$date': {'$numberLong': '1212883200000'}}</td>\n",
       "      <td>Bantam</td>\n",
       "      <td>1</td>\n",
       "      <td>0</td>\n",
       "      <td>ODD HOURS</td>\n",
       "      <td>1</td>\n",
       "    </tr>\n",
       "    <tr>\n",
       "      <th>1</th>\n",
       "      <td>{'$oid': '5b4aa4ead3089013507db18c'}</td>\n",
       "      <td>http://www.amazon.com/The-Host-Novel-Stephenie...</td>\n",
       "      <td>Stephenie Meyer</td>\n",
       "      <td>{'$date': {'$numberLong': '1211587200000'}}</td>\n",
       "      <td>Aliens have taken control of the minds and bod...</td>\n",
       "      <td>0</td>\n",
       "      <td>{'$date': {'$numberLong': '1212883200000'}}</td>\n",
       "      <td>Little, Brown</td>\n",
       "      <td>2</td>\n",
       "      <td>1</td>\n",
       "      <td>THE HOST</td>\n",
       "      <td>3</td>\n",
       "    </tr>\n",
       "    <tr>\n",
       "      <th>2</th>\n",
       "      <td>{'$oid': '5b4aa4ead3089013507db18d'}</td>\n",
       "      <td>http://www.amazon.com/Love-Youre-With-Emily-Gi...</td>\n",
       "      <td>Emily Giffin</td>\n",
       "      <td>{'$date': {'$numberLong': '1211587200000'}}</td>\n",
       "      <td>A woman's happy marriage is shaken when she en...</td>\n",
       "      <td>0</td>\n",
       "      <td>{'$date': {'$numberLong': '1212883200000'}}</td>\n",
       "      <td>St. Martin's</td>\n",
       "      <td>3</td>\n",
       "      <td>2</td>\n",
       "      <td>LOVE THE ONE YOU'RE WITH</td>\n",
       "      <td>2</td>\n",
       "    </tr>\n",
       "    <tr>\n",
       "      <th>3</th>\n",
       "      <td>{'$oid': '5b4aa4ead3089013507db18e'}</td>\n",
       "      <td>http://www.amazon.com/The-Front-Garano-Patrici...</td>\n",
       "      <td>Patricia Cornwell</td>\n",
       "      <td>{'$date': {'$numberLong': '1211587200000'}}</td>\n",
       "      <td>A Massachusetts state investigator and his tea...</td>\n",
       "      <td>0</td>\n",
       "      <td>{'$date': {'$numberLong': '1212883200000'}}</td>\n",
       "      <td>Putnam</td>\n",
       "      <td>4</td>\n",
       "      <td>0</td>\n",
       "      <td>THE FRONT</td>\n",
       "      <td>1</td>\n",
       "    </tr>\n",
       "    <tr>\n",
       "      <th>4</th>\n",
       "      <td>{'$oid': '5b4aa4ead3089013507db18f'}</td>\n",
       "      <td>http://www.amazon.com/Snuff-Chuck-Palahniuk/dp...</td>\n",
       "      <td>Chuck Palahniuk</td>\n",
       "      <td>{'$date': {'$numberLong': '1211587200000'}}</td>\n",
       "      <td>An aging porn queens aims to cap her career by...</td>\n",
       "      <td>0</td>\n",
       "      <td>{'$date': {'$numberLong': '1212883200000'}}</td>\n",
       "      <td>Doubleday</td>\n",
       "      <td>5</td>\n",
       "      <td>0</td>\n",
       "      <td>SNUFF</td>\n",
       "      <td>1</td>\n",
       "    </tr>\n",
       "  </tbody>\n",
       "</table>\n",
       "</div>"
      ],
      "text/plain": [
       "                                    _id  \\\n",
       "0  {'$oid': '5b4aa4ead3089013507db18b'}   \n",
       "1  {'$oid': '5b4aa4ead3089013507db18c'}   \n",
       "2  {'$oid': '5b4aa4ead3089013507db18d'}   \n",
       "3  {'$oid': '5b4aa4ead3089013507db18e'}   \n",
       "4  {'$oid': '5b4aa4ead3089013507db18f'}   \n",
       "\n",
       "                                  amazon_product_url             author  \\\n",
       "0  http://www.amazon.com/Odd-Hours-Dean-Koontz/dp...      Dean R Koontz   \n",
       "1  http://www.amazon.com/The-Host-Novel-Stephenie...    Stephenie Meyer   \n",
       "2  http://www.amazon.com/Love-Youre-With-Emily-Gi...       Emily Giffin   \n",
       "3  http://www.amazon.com/The-Front-Garano-Patrici...  Patricia Cornwell   \n",
       "4  http://www.amazon.com/Snuff-Chuck-Palahniuk/dp...    Chuck Palahniuk   \n",
       "\n",
       "                              bestsellers_date  \\\n",
       "0  {'$date': {'$numberLong': '1211587200000'}}   \n",
       "1  {'$date': {'$numberLong': '1211587200000'}}   \n",
       "2  {'$date': {'$numberLong': '1211587200000'}}   \n",
       "3  {'$date': {'$numberLong': '1211587200000'}}   \n",
       "4  {'$date': {'$numberLong': '1211587200000'}}   \n",
       "\n",
       "                                         description  price  \\\n",
       "0  Odd Thomas, who can communicate with the dead,...     27   \n",
       "1  Aliens have taken control of the minds and bod...      0   \n",
       "2  A woman's happy marriage is shaken when she en...      0   \n",
       "3  A Massachusetts state investigator and his tea...      0   \n",
       "4  An aging porn queens aims to cap her career by...      0   \n",
       "\n",
       "                                published_date      publisher  rank  \\\n",
       "0  {'$date': {'$numberLong': '1212883200000'}}         Bantam     1   \n",
       "1  {'$date': {'$numberLong': '1212883200000'}}  Little, Brown     2   \n",
       "2  {'$date': {'$numberLong': '1212883200000'}}   St. Martin's     3   \n",
       "3  {'$date': {'$numberLong': '1212883200000'}}         Putnam     4   \n",
       "4  {'$date': {'$numberLong': '1212883200000'}}      Doubleday     5   \n",
       "\n",
       "   rank_last_week                     title  weeks_on_list  \n",
       "0               0                 ODD HOURS              1  \n",
       "1               1                  THE HOST              3  \n",
       "2               2  LOVE THE ONE YOU'RE WITH              2  \n",
       "3               0                 THE FRONT              1  \n",
       "4               0                     SNUFF              1  "
      ]
     },
     "execution_count": 7,
     "metadata": {},
     "output_type": "execute_result"
    }
   ],
   "source": [
    "books.head()"
   ]
  },
  {
   "cell_type": "markdown",
   "metadata": {},
   "source": [
    "#### Select Relevant columns"
   ]
  },
  {
   "cell_type": "code",
   "execution_count": 8,
   "metadata": {},
   "outputs": [],
   "source": [
    "books = books[['title','author','description','price','rank','rank_last_week','weeks_on_list']]"
   ]
  },
  {
   "cell_type": "markdown",
   "metadata": {},
   "source": [
    "#### Get number of missing values for fields price,rank,rank_last_week,weeks_on_list"
   ]
  },
  {
   "cell_type": "code",
   "execution_count": 9,
   "metadata": {},
   "outputs": [
    {
     "data": {
      "text/plain": [
       "9217"
      ]
     },
     "execution_count": 9,
     "metadata": {},
     "output_type": "execute_result"
    }
   ],
   "source": [
    "get_zeros('price')"
   ]
  },
  {
   "cell_type": "code",
   "execution_count": 10,
   "metadata": {},
   "outputs": [
    {
     "data": {
      "text/plain": [
       "0"
      ]
     },
     "execution_count": 10,
     "metadata": {},
     "output_type": "execute_result"
    }
   ],
   "source": [
    "get_zeros('rank')"
   ]
  },
  {
   "cell_type": "code",
   "execution_count": 11,
   "metadata": {},
   "outputs": [
    {
     "data": {
      "text/plain": [
       "4174"
      ]
     },
     "execution_count": 11,
     "metadata": {},
     "output_type": "execute_result"
    }
   ],
   "source": [
    "get_zeros('rank_last_week')"
   ]
  },
  {
   "cell_type": "code",
   "execution_count": 12,
   "metadata": {},
   "outputs": [
    {
     "data": {
      "text/plain": [
       "1965"
      ]
     },
     "execution_count": 12,
     "metadata": {},
     "output_type": "execute_result"
    }
   ],
   "source": [
    "get_zeros('weeks_on_list')"
   ]
  },
  {
   "cell_type": "markdown",
   "metadata": {},
   "source": [
    "####  Drop price and rank_last_week since most of the values are missing"
   ]
  },
  {
   "cell_type": "code",
   "execution_count": 13,
   "metadata": {},
   "outputs": [],
   "source": [
    "books.drop(['price','rank_last_week'], axis=1, inplace=True)"
   ]
  },
  {
   "cell_type": "markdown",
   "metadata": {},
   "source": [
    "#### Get important keywords from book description"
   ]
  },
  {
   "cell_type": "code",
   "execution_count": 14,
   "metadata": {},
   "outputs": [],
   "source": [
    "books['description'] = books['description'].apply(lambda x:get_keywords(x))"
   ]
  },
  {
   "cell_type": "code",
   "execution_count": 15,
   "metadata": {},
   "outputs": [],
   "source": [
    "books['bag_of_words'] = books['description'].map(str)"
   ]
  },
  {
   "cell_type": "code",
   "execution_count": 16,
   "metadata": {},
   "outputs": [],
   "source": [
    "books['bag_of_words'] = books['bag_of_words'].str.lower()"
   ]
  },
  {
   "cell_type": "code",
   "execution_count": 17,
   "metadata": {},
   "outputs": [],
   "source": [
    "books['bag_of_words'] = books['bag_of_words'].apply(lambda x:remove_punctuation(x))"
   ]
  },
  {
   "cell_type": "markdown",
   "metadata": {},
   "source": [
    "#### Drop unwanted columns"
   ]
  },
  {
   "cell_type": "code",
   "execution_count": 18,
   "metadata": {},
   "outputs": [],
   "source": [
    "books.drop(['author','description','rank','weeks_on_list'], axis=1, inplace=True)"
   ]
  },
  {
   "cell_type": "markdown",
   "metadata": {},
   "source": [
    "#### Drop duplicates"
   ]
  },
  {
   "cell_type": "code",
   "execution_count": 19,
   "metadata": {},
   "outputs": [],
   "source": [
    "books = books.drop_duplicates(subset='title')\n",
    "books = books.reset_index(drop=True)"
   ]
  },
  {
   "cell_type": "markdown",
   "metadata": {},
   "source": [
    "#### Generate the cosine similarity matrix for recommending similar books"
   ]
  },
  {
   "cell_type": "code",
   "execution_count": 20,
   "metadata": {},
   "outputs": [],
   "source": [
    "# instantiating and generating the count matrix\n",
    "\n",
    "count = CountVectorizer()\n",
    "count_matrix = count.fit_transform(books['bag_of_words'])\n",
    "\n",
    "# generate the cosine similarity matrix\n",
    "cosine_sim = cosine_similarity(count_matrix, count_matrix)"
   ]
  },
  {
   "cell_type": "code",
   "execution_count": 21,
   "metadata": {},
   "outputs": [
    {
     "data": {
      "text/plain": [
       "array([[1.        , 0.        , 0.        , ..., 0.        , 0.        ,\n",
       "        0.        ],\n",
       "       [0.        , 1.        , 0.11952286, ..., 0.        , 0.        ,\n",
       "        0.        ],\n",
       "       [0.        , 0.11952286, 1.        , ..., 0.        , 0.        ,\n",
       "        0.        ],\n",
       "       ...,\n",
       "       [0.        , 0.        , 0.        , ..., 1.        , 0.        ,\n",
       "        0.        ],\n",
       "       [0.        , 0.        , 0.        , ..., 0.        , 1.        ,\n",
       "        0.        ],\n",
       "       [0.        , 0.        , 0.        , ..., 0.        , 0.        ,\n",
       "        1.        ]])"
      ]
     },
     "execution_count": 21,
     "metadata": {},
     "output_type": "execute_result"
    }
   ],
   "source": [
    "cosine_sim"
   ]
  },
  {
   "cell_type": "markdown",
   "metadata": {},
   "source": [
    "#### Define the function that takes the book title as the input and returns the top 10 recommended books"
   ]
  },
  {
   "cell_type": "code",
   "execution_count": 22,
   "metadata": {},
   "outputs": [],
   "source": [
    "def recommendations(title, cosine_sim=cosine_sim):\n",
    "    \n",
    "    #initialize the list of empty books\n",
    "    recommended_books = []\n",
    "    \n",
    "    #get the index of the book that  matches the title\n",
    "    idx = books.index[books['title'] == title][0]\n",
    "    \n",
    "    #creating a Series with the similarity scores in descending order\n",
    "    score_series = pd.Series(cosine_sim[idx]).sort_values(ascending=False)\n",
    "    \n",
    "    #getting the indices of the 10 most similar books\n",
    "    top_10_indices = list(score_series.iloc[1:11].index)\n",
    "    \n",
    "    # populating the list with the titles of the best 10 matching movies\n",
    "    for i in top_10_indices:\n",
    "        recommended_books.append(books.loc[i][0])\n",
    "        \n",
    "    return recommended_books"
   ]
  },
  {
   "cell_type": "markdown",
   "metadata": {},
   "source": [
    "## Recommendations in Action!!!"
   ]
  },
  {
   "cell_type": "code",
   "execution_count": 23,
   "metadata": {},
   "outputs": [
    {
     "data": {
      "text/plain": [
       "['ISTANBUL PASSAGE',\n",
       " 'SPYMASTER',\n",
       " 'THE HELLFIRE CLUB',\n",
       " 'MOONGLOW',\n",
       " 'RAIN GODS',\n",
       " 'PORCH LIGHTS',\n",
       " 'THE LADY OF THE RIVERS',\n",
       " 'THE SPIES OF WARSAW',\n",
       " 'THINK TWICE',\n",
       " 'OUR SOULS AT NIGHT']"
      ]
     },
     "execution_count": 23,
     "metadata": {},
     "output_type": "execute_result"
    }
   ],
   "source": [
    "recommendations('THE PRESIDENT IS MISSING')"
   ]
  }
 ],
 "metadata": {
  "kernelspec": {
   "display_name": "Python 3",
   "language": "python",
   "name": "python3"
  },
  "language_info": {
   "codemirror_mode": {
    "name": "ipython",
    "version": 3
   },
   "file_extension": ".py",
   "mimetype": "text/x-python",
   "name": "python",
   "nbconvert_exporter": "python",
   "pygments_lexer": "ipython3",
   "version": "3.6.5"
  }
 },
 "nbformat": 4,
 "nbformat_minor": 2
}
